{
 "cells": [
  {
   "cell_type": "code",
   "execution_count": 2,
   "metadata": {},
   "outputs": [],
   "source": [
    "# Numpy library to use matrices\n",
    "import numpy as np\n",
    "\n",
    "# Load display library for jupyter notebook\n",
    "import matplotlib\n",
    "from matplotlib import pyplot as plt\n"
   ]
  },
  {
   "cell_type": "code",
   "execution_count": 3,
   "metadata": {},
   "outputs": [],
   "source": [
    "# We'll continue onwards with our canvas function\n",
    "N = 100\n",
    "\n",
    "def show_canvas(canvas, title=\"\"):\n",
    "    # Similar to doing cv2.imshow, but in this environment\n",
    "    plt.figure()\n",
    "    plt.imshow(canvas, cmap=\"gray\", norm=matplotlib.colors.NoNorm()) \n",
    "    plt.title(title)\n",
    "    \n",
    "def reset_canvas(size):\n",
    "    return np.ones((size,size))\n",
    "    \n"
   ]
  },
  {
   "cell_type": "code",
   "execution_count": 6,
   "metadata": {},
   "outputs": [
    {
     "data": {
      "image/png": "[encoded data removed]",
      "text/plain": [
       "<Figure size 432x288 with 1 Axes>"
      ]
     },
     "metadata": {},
     "output_type": "display_data"
    }
   ],
   "source": [
    "# Midpoint algorithm\n",
    "x0 = 20\n",
    "y0 = 20\n",
    "x1 = 80\n",
    "y1 = 43\n",
    "canvas = reset_canvas(N)\n",
    "dx = x1 - x0\n",
    "dy = y1 - y0\n",
    "# init\n",
    "d = 2 * dy - dx\n",
    "y = y0\n",
    "for x in range(x0, x1 + 1):\n",
    "    canvas[(N - 1) - y, x] = 0\n",
    "    if d < 0:\n",
    "        # midpoint above line, choose E\n",
    "        d = d + 2 * dy\n",
    "    else:\n",
    "        # midpoint below line, choose NE\n",
    "        d = d + 2 * (dy - dx)\n",
    "        y = y + 1\n",
    "show_canvas(canvas, \"midpoint algorithm result\")"
   ]
  },
  {
   "cell_type": "code",
   "execution_count": 8,
   "metadata": {},
   "outputs": [
    {
     "data": {
      "image/png": "[encoded data removed]",
      "text/plain": [
       "<Figure size 432x288 with 1 Axes>"
      ]
     },
     "metadata": {},
     "output_type": "display_data"
    }
   ],
   "source": [
    "# What about previous algorithm?\n",
    "a = dy / dx\n",
    "b = y0 - dy / dx * x0\n",
    "canvas = reset_canvas(N)\n",
    "for x in range(x0, x1 + 1):\n",
    "    y = int(np.round(a * x + b))\n",
    "    if y > 0 and y <= N:\n",
    "        canvas[(N - 1) - y, x] = 0\n",
    "show_canvas(canvas, \"a = \" + str(a) + \", b = \" + str(b))"
   ]
  },
  {
   "cell_type": "code",
   "execution_count": 9,
   "metadata": {},
   "outputs": [],
   "source": [
    "# Looks pretty much the same!"
   ]
  },
  {
   "cell_type": "code",
   "execution_count": null,
   "metadata": {},
   "outputs": [],
   "source": []
  }
 ],
 "metadata": {
  "kernelspec": {
   "display_name": "Python 3",
   "language": "python",
   "name": "python3"
  },
  "language_info": {
   "codemirror_mode": {
    "name": "ipython",
    "version": 3
   },
   "file_extension": ".py",
   "mimetype": "text/x-python",
   "name": "python",
   "nbconvert_exporter": "python",
   "pygments_lexer": "ipython3",
   "version": "3.6.5"
  }
 },
 "nbformat": 4,
 "nbformat_minor": 2
}
