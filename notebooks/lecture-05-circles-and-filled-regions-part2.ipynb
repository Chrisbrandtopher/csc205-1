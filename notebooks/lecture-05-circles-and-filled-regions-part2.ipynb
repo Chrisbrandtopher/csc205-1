{
 "cells": [
  {
   "cell_type": "code",
   "execution_count": 5,
   "metadata": {},
   "outputs": [],
   "source": [
    "# Numpy library to use matrices\n",
    "import numpy as np\n",
    "\n",
    "# Load display library for jupyter notebook\n",
    "import matplotlib\n",
    "from matplotlib import pyplot as plt\n"
   ]
  },
  {
   "cell_type": "code",
   "execution_count": 6,
   "metadata": {},
   "outputs": [],
   "source": [
    "# We'll continue onwards with our canvas function\n",
    "N = 100\n",
    "\n",
    "def show_canvas(canvas, title=\"\"):\n",
    "    # Similar to doing cv2.imshow, but in this environment\n",
    "    plt.figure()\n",
    "    plt.imshow(canvas, cmap=\"gray\", norm=matplotlib.colors.NoNorm()) \n",
    "    plt.title(title)\n",
    "    \n",
    "def reset_canvas(size):\n",
    "    return np.ones((size,size))\n",
    "    \n"
   ]
  },
  {
   "cell_type": "code",
   "execution_count": 7,
   "metadata": {},
   "outputs": [],
   "source": [
    "# Draw all eight combinations (moved with origin)\n",
    "def draw8(canvas, x, y, x0, y0):\n",
    "    canvas[(N - 1) - (y + y0), (x + x0)] = 0\n",
    "    canvas[(N - 1) - (y + y0), (-x + x0)] = 0\n",
    "    canvas[(N - 1) - (-y + y0), (x + x0)] = 0\n",
    "    canvas[(N - 1) - (-y + y0), (-x + x0)] = 0\n",
    "    canvas[(N - 1) - (x + y0), (y + x0)] = 0\n",
    "    canvas[(N - 1) - (x + y0), (-y + x0)] = 0\n",
    "    canvas[(N - 1) - (-x + y0), (y + x0)] = 0\n",
    "    canvas[(N - 1) - (-x + y0), (-y + x0)] = 0\n",
    "    return canvas"
   ]
  },
  {
   "cell_type": "code",
   "execution_count": 14,
   "metadata": {},
   "outputs": [
    {
     "data": {
      "image/png": "[encoded data removed]",
      "text/plain": [
       "<Figure size 432x288 with 1 Axes>"
      ]
     },
     "metadata": {
      "needs_background": "light"
     },
     "output_type": "display_data"
    }
   ],
   "source": [
    "# Midpoint algorithm\n",
    "x0 = 50\n",
    "y0 = 50\n",
    "R = 20\n",
    "canvas = reset_canvas(N)\n",
    "# init\n",
    "d = 5 - 4 * R\n",
    "x_s = 0\n",
    "x_e = int(np.round(1/np.sqrt(2) * R))\n",
    "y = R\n",
    "for x in range(x_s, x_e + 1):\n",
    "    canvas = draw8(canvas, x, y, x0, y0)\n",
    "    if d < 0:\n",
    "        # midpoint in circle, choose E\n",
    "        delta = 8 * x + 12\n",
    "        y = y\n",
    "    else:\n",
    "        # midpoint outside circle, choose SE\n",
    "        delta = 8 * x - 8 * y + 20\n",
    "        y = y - 1\n",
    "    d += delta\n",
    "show_canvas(canvas, \"midpoint algorithm result\")"
   ]
  },
  {
   "cell_type": "code",
   "execution_count": 17,
   "metadata": {},
   "outputs": [
    {
     "data": {
      "image/png": "[encoded data removed]",
      "text/plain": [
       "<Figure size 432x288 with 1 Axes>"
      ]
     },
     "metadata": {
      "needs_background": "light"
     },
     "output_type": "display_data"
    }
   ],
   "source": [
    "# Continuing onwards, Let's try to fill this circle\n",
    "\n",
    "# we'll make a copy because we don't want to redo the drawing above\n",
    "\n",
    "# This is a wrong way to copy! It will simply create another \"reference\"\n",
    "# new_canvas = canvas\n",
    "# new_canvas[:] = 0.0\n",
    "# show_canvas(canvas, \"midpoint algorithm result\") # <- wrong to do\n",
    "\n",
    "new_canvas = canvas.copy()\n",
    "# new_canvas[:] = 0.0\n",
    "# show_canvas(canvas, \"midpoint algorithm result\") # <- wrong to do\n",
    "\n",
    "# Since we know that the circle extends only up R, we'll loop though there\n",
    "for y in range(y0 - R, y0 + R + 1):\n",
    "    number_of_crosses = 0\n",
    "    for x in range(x0 - R, x0 + R + 1):\n",
    "        if canvas[(N-1) - y, x] <= 0.0:\n",
    "            number_of_crosses += 1\n",
    "        if number_of_crosses % 2 == 1:\n",
    "            new_canvas[(N-1) - y, x] = 0.0\n",
    "    \n",
    "\n",
    "# While looping, we will then count how many black pixels we've seen,\n",
    "# and color if we have seen black pixel odd number of times\n",
    "show_canvas(new_canvas, \"color results\")"
   ]
  },
  {
   "cell_type": "code",
   "execution_count": 18,
   "metadata": {},
   "outputs": [
    {
     "data": {
      "image/png": "[encoded data removed]",
      "text/plain": [
       "<Figure size 432x288 with 1 Axes>"
      ]
     },
     "metadata": {
      "needs_background": "light"
     },
     "output_type": "display_data"
    }
   ],
   "source": [
    "# Detecting \"crossings\"\n",
    "new_canvas = canvas.copy()\n",
    "\n",
    "# Since we know that the circle extends only up R, we'll loop though there\n",
    "for y in range(y0 - R, y0 + R + 1):\n",
    "    number_of_crosses = 0\n",
    "    for x in range(x0 - R, x0 + R + 1):\n",
    "        if canvas[(N-1) - y, x] > 0.0 and canvas[(N-1) - y, x - 1] <= 0.0:\n",
    "            number_of_crosses += 1\n",
    "        if number_of_crosses % 2 == 1:\n",
    "            new_canvas[(N-1) - y, x] = 0.0\n",
    "    \n",
    "show_canvas(new_canvas, \"color results\")"
   ]
  },
  {
   "cell_type": "code",
   "execution_count": 19,
   "metadata": {},
   "outputs": [],
   "source": [
    "# Draw line between crossings\n",
    "def draw_line(canvas, xs, xe, yy):\n",
    "    # TODO\n",
    "    for x in range(xs,xe+1):\n",
    "        canvas[yy, x] = 0.0\n",
    "    return canvas"
   ]
  },
  {
   "cell_type": "code",
   "execution_count": 22,
   "metadata": {},
   "outputs": [
    {
     "data": {
      "image/png": "[encoded data removed]",
      "text/plain": [
       "<Figure size 432x288 with 1 Axes>"
      ]
     },
     "metadata": {
      "needs_background": "light"
     },
     "output_type": "display_data"
    }
   ],
   "source": [
    "# Something is bugged in this attempt!\n",
    "new_canvas = canvas.copy()\n",
    "\n",
    "# Since we know that the circle extends only up R, we'll loop though there\n",
    "for y in range(y0 - R, y0 + R + 1):\n",
    "    number_of_crosses = 0\n",
    "    # Negative mean we did not encounter yet\n",
    "    xs = -1\n",
    "    for x in range(x0 - R, x0 + R + 1):\n",
    "        if canvas[(N-1) - y, x] > 0.0 and canvas[(N-1) - y, x - 1] <= 0.0:\n",
    "            number_of_crosses += 1\n",
    "        if number_of_crosses % 2 == 1:\n",
    "            xs = x\n",
    "        else:\n",
    "            if xs > 0:\n",
    "                new_canvas = draw_line(new_canvas, xs, x, (N-1) - y)\n",
    "            xs = -1\n",
    "\n",
    "show_canvas(new_canvas, \"color results\")"
   ]
  },
  {
   "cell_type": "code",
   "execution_count": null,
   "metadata": {},
   "outputs": [],
   "source": []
  },
  {
   "cell_type": "code",
   "execution_count": null,
   "metadata": {},
   "outputs": [],
   "source": [
    "# Other version of the implementations not shown in class are below ;-)"
   ]
  },
  {
   "cell_type": "code",
   "execution_count": 7,
   "metadata": {},
   "outputs": [
    {
     "data": {
      "image/png": "[encoded data removed]",
      "text/plain": [
       "<Figure size 432x288 with 1 Axes>"
      ]
     },
     "metadata": {
      "needs_background": "light"
     },
     "output_type": "display_data"
    }
   ],
   "source": [
    "# Continuing onwards, Let's try to fill this circle\n",
    "\n",
    "# Since we know that the circle extends only up R, we'll loop though there\n",
    "new_canvas = canvas.copy() \n",
    "for y in range(-R, R + 1):\n",
    "    # We'll have a counter that records even/odd\n",
    "    is_odd = False\n",
    "    for x in range(-R, R + 1):\n",
    "        j = (N - 1) - (y + y0)\n",
    "        i = x + x0\n",
    "        if new_canvas[j, i] == 0:\n",
    "            is_odd = not is_odd\n",
    "        if is_odd:\n",
    "            new_canvas[j, i] = 0\n",
    "show_canvas(new_canvas, \"try 1\")"
   ]
  },
  {
   "cell_type": "code",
   "execution_count": 14,
   "metadata": {},
   "outputs": [
    {
     "data": {
      "image/png": "[encoded data removed]",
      "text/plain": [
       "<Figure size 432x288 with 1 Axes>"
      ]
     },
     "metadata": {},
     "output_type": "display_data"
    }
   ],
   "source": [
    "# Okay, we'll fix that. Let's just detect \"crossings\"\n",
    "\n",
    "# Since we know that the circle extends only up R, we'll loop though there\n",
    "new_canvas = canvas.copy() # we'll make a copy because we don't want to redo the drawing above\n",
    "for y in range(-R, R + 1):\n",
    "    # We'll have a counter that records even/odd\n",
    "    is_odd = False\n",
    "    for x in range(-R, R + 1):\n",
    "        j = (N - 1) - (y + y0)\n",
    "        i = x + x0\n",
    "        if canvas[j, i] == 0 and canvas[j, i + 1] != 0:\n",
    "            is_odd = not is_odd\n",
    "        if is_odd:\n",
    "            new_canvas[j, i] = 0\n",
    "show_canvas(new_canvas, \"try 2\")"
   ]
  },
  {
   "cell_type": "code",
   "execution_count": 41,
   "metadata": {},
   "outputs": [
    {
     "data": {
      "image/png": "[encoded data removed]",
      "text/plain": [
       "<Figure size 432x288 with 1 Axes>"
      ]
     },
     "metadata": {},
     "output_type": "display_data"
    }
   ],
   "source": [
    "# Okay, we'll fix that again, let's draw a line, when ever we find two crossings\n",
    "def draw_line(canvas, xs, xe, yy):\n",
    "    for xx in range(xs, xe + 1):\n",
    "        canvas[yy, xx] = 0\n",
    "    return canvas\n",
    "\n",
    "# Since we know that the circle extends only up R, we'll loop though there\n",
    "new_canvas = canvas.copy() # we'll make a copy because we don't want to redo the drawing above\n",
    "for y in range(-R, R + 1):\n",
    "    # We'll have a counter that records even/odd\n",
    "    xs = None\n",
    "    is_odd = False\n",
    "    for x in range(-R, R + 1):\n",
    "        j = (N - 1) - (y + y0)\n",
    "        i = x + x0\n",
    "        if canvas[j, i] == 0 and canvas[j, i + 1] != 0:\n",
    "            if not is_odd:\n",
    "                xs = i\n",
    "            else:\n",
    "                new_canvas = draw_line(new_canvas, xs, i, j)\n",
    "            is_odd = not is_odd\n",
    "\n",
    "show_canvas(new_canvas, \"try 3\")"
   ]
  },
  {
   "cell_type": "code",
   "execution_count": null,
   "metadata": {},
   "outputs": [],
   "source": [
    "# Yay it works"
   ]
  }
 ],
 "metadata": {
  "kernelspec": {
   "display_name": "Python 3",
   "language": "python",
   "name": "python3"
  },
  "language_info": {
   "codemirror_mode": {
    "name": "ipython",
    "version": 3
   },
   "file_extension": ".py",
   "mimetype": "text/x-python",
   "name": "python",
   "nbconvert_exporter": "python",
   "pygments_lexer": "ipython3",
   "version": "3.7.6"
  }
 },
 "nbformat": 4,
 "nbformat_minor": 2
}
