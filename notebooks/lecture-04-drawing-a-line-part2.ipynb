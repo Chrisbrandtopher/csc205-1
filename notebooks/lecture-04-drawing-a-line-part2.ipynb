{
 "cells": [
  {
   "cell_type": "code",
   "execution_count": 18,
   "metadata": {},
   "outputs": [],
   "source": [
    "# Numpy library to use matrices\n",
    "import numpy as np\n",
    "\n",
    "# Load display library for jupyter notebook\n",
    "import matplotlib\n",
    "from matplotlib import pyplot as plt\n"
   ]
  },
  {
   "cell_type": "code",
   "execution_count": 19,
   "metadata": {},
   "outputs": [],
   "source": [
    "# We'll continue onwards with our canvas function\n",
    "N = 100\n",
    "\n",
    "def show_canvas(canvas, title=\"\"):\n",
    "    # Similar to doing cv2.imshow, but in this environment\n",
    "    plt.figure()\n",
    "    plt.imshow(canvas, cmap=\"gray\", norm=matplotlib.colors.NoNorm()) \n",
    "    plt.title(title)\n",
    "    \n",
    "def reset_canvas(size):\n",
    "    return np.ones((size,size))\n",
    "    \n"
   ]
  },
  {
   "cell_type": "code",
   "execution_count": 20,
   "metadata": {},
   "outputs": [
    {
     "data": {
      "image/png": "[encoded data removed]",
      "text/plain": [
       "<Figure size 432x288 with 1 Axes>"
      ]
     },
     "metadata": {},
     "output_type": "display_data"
    }
   ],
   "source": [
    "# Let's think about the line where y = 0.5 x + 1\n",
    "a = 0.5\n",
    "b = 1\n",
    "canvas = reset_canvas(N)\n",
    "for x in range(0, N):\n",
    "    y = int(np.round(a * x + b))\n",
    "    if y > 0 and y <= N:\n",
    "        canvas[(N - 1) - y, x] = 0\n",
    "show_canvas(canvas, \"a = \" + str(a) + \", b = \" + str(b))"
   ]
  },
  {
   "cell_type": "code",
   "execution_count": 21,
   "metadata": {},
   "outputs": [
    {
     "data": {
      "image/png": "[encoded data removed]",
      "text/plain": [
       "<Figure size 432x288 with 1 Axes>"
      ]
     },
     "metadata": {},
     "output_type": "display_data"
    }
   ],
   "source": [
    "# In implicit form it would be 0.5x - y + 1 = 0\n",
    "# Let's simply draw this line by testing all pixels\n",
    "a = 0.5\n",
    "b = 1\n",
    "canvas = reset_canvas(N)\n",
    "for x in range(0, N):\n",
    "    for y in range(0, N):\n",
    "        if np.round(a*x - y + b) == 0:\n",
    "            canvas[(N - 1) - y, x] = 0\n",
    "show_canvas(canvas, str(a) + \"x - y + \" + str(b) + \" = 0\")"
   ]
  },
  {
   "cell_type": "code",
   "execution_count": 22,
   "metadata": {},
   "outputs": [
    {
     "data": {
      "image/png": "[encoded data removed]",
      "text/plain": [
       "<Figure size 432x288 with 1 Axes>"
      ]
     },
     "metadata": {},
     "output_type": "display_data"
    }
   ],
   "source": [
    "# With the implicit definition, it is easy to determine if a point is above, or under\n",
    "\n",
    "# For example, if we color all pixels that have 0.5x - y + 1 < 0\n",
    "a = 0.5\n",
    "b = 1\n",
    "canvas = reset_canvas(N)\n",
    "for x in range(0, N):\n",
    "    for y in range(0, N):\n",
    "        if np.round(a*x - y + b) < 0:\n",
    "            canvas[(N - 1) - y, x] = 0\n",
    "show_canvas(canvas, str(a) + \"x - y + \" + str(b) + \" < 0\")\n"
   ]
  },
  {
   "cell_type": "code",
   "execution_count": 23,
   "metadata": {},
   "outputs": [
    {
     "data": {
      "image/png": "[encoded data removed]",
      "text/plain": [
       "<Figure size 432x288 with 1 Axes>"
      ]
     },
     "metadata": {},
     "output_type": "display_data"
    }
   ],
   "source": [
    "# And for the oposite, if we color all pixels that have 0.5x - y + 1 > 0\n",
    "a = 0.5\n",
    "b = 1\n",
    "canvas = reset_canvas(N)\n",
    "for x in range(0, N):\n",
    "    for y in range(0, N):\n",
    "        if np.round(a*x - y + b) > 0:\n",
    "            canvas[(N - 1) - y, x] = 0\n",
    "show_canvas(canvas, str(a) + \"x - y + \" + str(b) + \" > 0\")"
   ]
  },
  {
   "cell_type": "code",
   "execution_count": 24,
   "metadata": {},
   "outputs": [],
   "source": [
    "# So actually, you just have to test if the midpoint is above or below the line!"
   ]
  },
  {
   "cell_type": "code",
   "execution_count": null,
   "metadata": {},
   "outputs": [],
   "source": []
  }
 ],
 "metadata": {
  "kernelspec": {
   "display_name": "Python 3",
   "language": "python",
   "name": "python3"
  },
  "language_info": {
   "codemirror_mode": {
    "name": "ipython",
    "version": 3
   },
   "file_extension": ".py",
   "mimetype": "text/x-python",
   "name": "python",
   "nbconvert_exporter": "python",
   "pygments_lexer": "ipython3",
   "version": "3.6.5"
  }
 },
 "nbformat": 4,
 "nbformat_minor": 2
}
