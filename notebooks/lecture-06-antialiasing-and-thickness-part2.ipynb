{
 "cells": [
  {
   "cell_type": "code",
   "execution_count": 2,
   "metadata": {},
   "outputs": [],
   "source": [
    "# Numpy library to use matrices\n",
    "import numpy as np\n",
    "\n",
    "# Load display library for jupyter notebook\n",
    "import matplotlib\n",
    "from matplotlib import pyplot as plt\n"
   ]
  },
  {
   "cell_type": "code",
   "execution_count": 3,
   "metadata": {},
   "outputs": [],
   "source": [
    "# We'll continue onwards with our canvas function\n",
    "N = 100\n",
    "\n",
    "def show_canvas(canvas, title=\"\"):\n",
    "    # Similar to doing cv2.imshow, but in this environment\n",
    "    plt.figure(figsize = (8,8))\n",
    "#     plt.axis('off')\n",
    "    plt.imshow(canvas, cmap=\"gray\", norm=matplotlib.colors.NoNorm()) \n",
    "    plt.title(title)\n",
    "    \n",
    "def reset_canvas(size):\n",
    "    return np.ones((size,size))\n",
    "    \n"
   ]
  },
  {
   "cell_type": "code",
   "execution_count": 4,
   "metadata": {},
   "outputs": [],
   "source": [
    "# Now define our aliased drawing function\n",
    "def lineAA(canvas, x0, y0, x1, y1):\n",
    "    dx = x1 - x0\n",
    "    dy = y1 - y0\n",
    "    # init\n",
    "    d = 2 * dy - dx\n",
    "    y = y0\n",
    "    two_v_dx = 0\n",
    "    def get_aa_intensity(dist):\n",
    "        return min(1.0, abs(dist))\n",
    "    for x in range(x0, x1 + 1):\n",
    "\n",
    "        denom = (2 * np.sqrt(dx**2 + dy**2))\n",
    "\n",
    "        D = two_v_dx / denom\n",
    "        D_up = (2 * dx - two_v_dx) / denom\n",
    "        D_down = (2 * dx + two_v_dx) / denom\n",
    "        canvas[(N - 1) - y, x] = get_aa_intensity(D)\n",
    "        canvas[(N - 1) - (y + 1), x] = get_aa_intensity(D_up)\n",
    "        canvas[(N - 1) - (y - 1), x] = get_aa_intensity(D_down)\n",
    "\n",
    "        if d < 0:\n",
    "            # midpoint above line, choose E\n",
    "            two_v_dx = d + dx        \n",
    "            d = d + 2 * dy\n",
    "        else:\n",
    "            # midpoint below line, choose NE\n",
    "            two_v_dx = d - dx\n",
    "            d = d + 2 * (dy - dx)\n",
    "            y = y + 1\n",
    "    return canvas\n"
   ]
  },
  {
   "cell_type": "code",
   "execution_count": 6,
   "metadata": {},
   "outputs": [
    {
     "data": {
      "image/png": "[encoded data removed]",
      "text/plain": [
       "<Figure size 576x576 with 1 Axes>"
      ]
     },
     "metadata": {},
     "output_type": "display_data"
    }
   ],
   "source": [
    "# Draw thick line with thicness of 5 pixels\n",
    "\n",
    "canvas = reset_canvas(N)\n",
    "for jj in range(-2,3):\n",
    "    canvas = lineAA(canvas, 20, 20+jj, 80, 43+jj)\n",
    "show_canvas(canvas, \"try 1\")"
   ]
  },
  {
   "cell_type": "code",
   "execution_count": 7,
   "metadata": {},
   "outputs": [],
   "source": [
    "# Now define our aliased drawing function (fixed)\n",
    "def draw(canvas, x, y, v):\n",
    "    canvas[(N - 1) - y, x] = min(canvas[(N - 1) - y, x], v)\n",
    "    return canvas\n",
    "\n",
    "def lineAA(canvas, x0, y0, x1, y1):\n",
    "    dx = x1 - x0\n",
    "    dy = y1 - y0\n",
    "    # init\n",
    "    d = 2 * dy - dx\n",
    "    y = y0\n",
    "    two_v_dx = 0\n",
    "    def get_aa_intensity(dist):\n",
    "        return min(1.0, abs(dist))\n",
    "    for x in range(x0, x1 + 1):\n",
    "\n",
    "        denom = (2 * np.sqrt(dx**2 + dy**2))\n",
    "\n",
    "        D = two_v_dx / denom\n",
    "        D_up = (2 * dx - two_v_dx) / denom\n",
    "        D_down = (2 * dx + two_v_dx) / denom\n",
    "        canvas = draw(canvas, x, y, get_aa_intensity(D))\n",
    "        canvas = draw(canvas, x, y+1, get_aa_intensity(D_up))\n",
    "        canvas = draw(canvas, x, y-1, get_aa_intensity(D_down))\n",
    "\n",
    "        if d < 0:\n",
    "            # midpoint above line, choose E\n",
    "            two_v_dx = d + dx        \n",
    "            d = d + 2 * dy\n",
    "        else:\n",
    "            # midpoint below line, choose NE\n",
    "            two_v_dx = d - dx\n",
    "            d = d + 2 * (dy - dx)\n",
    "            y = y + 1\n",
    "    return canvas"
   ]
  },
  {
   "cell_type": "code",
   "execution_count": 8,
   "metadata": {},
   "outputs": [
    {
     "data": {
      "image/png": "[encoded data removed]",
      "text/plain": [
       "<Figure size 576x576 with 1 Axes>"
      ]
     },
     "metadata": {},
     "output_type": "display_data"
    }
   ],
   "source": [
    "# Draw thick line with thicness of 5 pixels\n",
    "\n",
    "canvas = reset_canvas(N)\n",
    "for jj in range(-2,3):\n",
    "    canvas = lineAA(canvas, 20, 20+jj, 80, 43+jj)\n",
    "show_canvas(canvas, \"try 2\")"
   ]
  },
  {
   "cell_type": "code",
   "execution_count": 9,
   "metadata": {},
   "outputs": [],
   "source": [
    "# This time also without AA lines\n",
    "def line(canvas, x0, y0, x1, y1):\n",
    "    dx = x1 - x0\n",
    "    dy = y1 - y0\n",
    "    # init\n",
    "    d = 2 * dy - dx\n",
    "    y = y0\n",
    "    for x in range(x0, x1 + 1):\n",
    "\n",
    "        canvas = draw(canvas, x, y, 0)\n",
    "\n",
    "        if d < 0:\n",
    "            # midpoint above line, choose E\n",
    "            d = d + 2 * dy\n",
    "        else:\n",
    "            # midpoint below line, choose NE\n",
    "            d = d + 2 * (dy - dx)\n",
    "            y = y + 1\n",
    "    return canvas"
   ]
  },
  {
   "cell_type": "code",
   "execution_count": 14,
   "metadata": {},
   "outputs": [
    {
     "data": {
      "image/png": "[encoded data removed]",
      "text/plain": [
       "<Figure size 576x576 with 1 Axes>"
      ]
     },
     "metadata": {},
     "output_type": "display_data"
    }
   ],
   "source": [
    "\n",
    "canvas = reset_canvas(N)\n",
    "canvas = lineAA(canvas, 20, 20-2, 80, 43-2)\n",
    "for jj in range(-2,3):\n",
    "    canvas = line(canvas, 20, 20+jj, 80, 43+jj)\n",
    "canvas = lineAA(canvas, 20, 20+2, 80, 43+2)\n",
    "show_canvas(canvas, \"try 3\")"
   ]
  },
  {
   "cell_type": "code",
   "execution_count": null,
   "metadata": {},
   "outputs": [],
   "source": []
  }
 ],
 "metadata": {
  "kernelspec": {
   "display_name": "Python 3",
   "language": "python",
   "name": "python3"
  },
  "language_info": {
   "codemirror_mode": {
    "name": "ipython",
    "version": 3
   },
   "file_extension": ".py",
   "mimetype": "text/x-python",
   "name": "python",
   "nbconvert_exporter": "python",
   "pygments_lexer": "ipython3",
   "version": "3.6.5"
  }
 },
 "nbformat": 4,
 "nbformat_minor": 2
}
