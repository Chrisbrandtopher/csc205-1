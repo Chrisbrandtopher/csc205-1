{
 "cells": [
  {
   "cell_type": "code",
   "execution_count": 2,
   "metadata": {},
   "outputs": [],
   "source": [
    "# Numpy library to use matrices\n",
    "import numpy as np\n",
    "\n",
    "# Load display library for jupyter notebook\n",
    "import matplotlib\n",
    "from matplotlib import pyplot as plt"
   ]
  },
  {
   "cell_type": "code",
   "execution_count": 28,
   "metadata": {},
   "outputs": [
    {
     "data": {
      "text/plain": [
       "[<matplotlib.lines.Line2D at 0x1143aaa90>]"
      ]
     },
     "execution_count": 28,
     "metadata": {},
     "output_type": "execute_result"
    },
    {
     "data": {
      "image/png": "[encoded data removed]",
      "text/plain": [
       "<Figure size 288x288 with 1 Axes>"
      ]
     },
     "metadata": {},
     "output_type": "display_data"
    }
   ],
   "source": [
    "# This is a function to plot images using something called the matplotlib. \n",
    "# No need to understand it, just to show you how it works!\n",
    "x = np.linspace(0,100,100)\n",
    "\n",
    "fig = plt.figure()\n",
    "plt.axis(\"equal\")\n",
    "plt.axis([0, 100, 0, 100])\n",
    "fig.set_size_inches(4, 4)\n",
    "\n",
    "plt.plot(x, 0.5*x + 1, 'k')"
   ]
  },
  {
   "cell_type": "code",
   "execution_count": 29,
   "metadata": {},
   "outputs": [
    {
     "name": "stdout",
     "output_type": "stream",
     "text": [
      "[[1. 1. 1. ... 1. 1. 1.]\n",
      " [1. 1. 1. ... 1. 1. 1.]\n",
      " [1. 1. 1. ... 1. 1. 1.]\n",
      " ...\n",
      " [1. 1. 1. ... 1. 1. 1.]\n",
      " [1. 1. 1. ... 1. 1. 1.]\n",
      " [1. 1. 1. ... 1. 1. 1.]]\n"
     ]
    }
   ],
   "source": [
    "# Create canvas\n",
    "canvas = np.ones((100,100))\n",
    "print(canvas)"
   ]
  },
  {
   "cell_type": "code",
   "execution_count": 33,
   "metadata": {},
   "outputs": [
    {
     "data": {
      "image/png": "[encoded data removed]",
      "text/plain": [
       "<Figure size 432x288 with 1 Axes>"
      ]
     },
     "metadata": {},
     "output_type": "display_data"
    }
   ],
   "source": [
    "# Show canvas\n",
    "def show_canvas():\n",
    "    # Similar to doing cv2.imshow, but in this environment\n",
    "    plt.imshow(canvas, cmap=\"gray\", norm=matplotlib.colors.NoNorm()) \n",
    "    \n",
    "show_canvas()"
   ]
  },
  {
   "cell_type": "code",
   "execution_count": 34,
   "metadata": {},
   "outputs": [],
   "source": [
    "# Draw line in a very naive way\n",
    "for y in range(0, 100):\n",
    "    for x in range(0, 100):\n",
    "        if y == 0.5*x + 1:\n",
    "            canvas[y,x] = 0"
   ]
  },
  {
   "cell_type": "code",
   "execution_count": 35,
   "metadata": {},
   "outputs": [
    {
     "data": {
      "image/png": "[encoded data removed]",
      "text/plain": [
       "<Figure size 432x288 with 1 Axes>"
      ]
     },
     "metadata": {},
     "output_type": "display_data"
    }
   ],
   "source": [
    "# Show canvas\n",
    "show_canvas()"
   ]
  },
  {
   "cell_type": "code",
   "execution_count": 63,
   "metadata": {},
   "outputs": [],
   "source": [
    "# What did we do wrong? \n",
    "# Actually, the y axis is flipped, and typically starts from zero on the top. \n",
    "# This is related to how images were displayed traditionally. Thus,\n",
    "for y in range(0, 100):\n",
    "    for x in range(0, 100):\n",
    "        if 100 - 1 - y == 0.5*x + 1:\n",
    "            canvas[y,x] = 0"
   ]
  },
  {
   "cell_type": "code",
   "execution_count": 37,
   "metadata": {},
   "outputs": [
    {
     "data": {
      "image/png": "[encoded data removed]",
      "text/plain": [
       "<Figure size 432x288 with 1 Axes>"
      ]
     },
     "metadata": {},
     "output_type": "display_data"
    }
   ],
   "source": [
    "show_canvas()"
   ]
  },
  {
   "cell_type": "code",
   "execution_count": 60,
   "metadata": {},
   "outputs": [
    {
     "data": {
      "image/png": "[encoded data removed]",
      "text/plain": [
       "<Figure size 432x288 with 1 Axes>"
      ]
     },
     "metadata": {},
     "output_type": "display_data"
    }
   ],
   "source": [
    "# Okay, we forgot to reset the canvas :-(\n",
    "\n",
    "canvas = np.ones((100,100))\n",
    "for y in range(0, 100):\n",
    "    for x in range(0, 100):\n",
    "        if 100 - 1 - y == 0.5*x + 1:\n",
    "            canvas[y,x] = 0\n",
    "show_canvas()"
   ]
  },
  {
   "cell_type": "code",
   "execution_count": 61,
   "metadata": {},
   "outputs": [
    {
     "data": {
      "image/png": "[encoded data removed]",
      "text/plain": [
       "<Figure size 432x288 with 1 Axes>"
      ]
     },
     "metadata": {},
     "output_type": "display_data"
    }
   ],
   "source": [
    "# Or even better, we can simply pass an argument to imshow\n",
    "def show_canvas():\n",
    "    # Similar to doing cv2.imshow, but in this environment\n",
    "    plt.imshow(canvas, cmap=\"gray\", norm=matplotlib.colors.NoNorm(), origin=\"lower\") \n",
    "    \n",
    "canvas = np.ones((100,100))\n",
    "for y in range(0, 100):\n",
    "    for x in range(0, 100):\n",
    "        if y == 0.5*x + 1: # Note that we do not flip\n",
    "            canvas[y,x] = 0\n",
    "show_canvas()"
   ]
  },
  {
   "cell_type": "code",
   "execution_count": 62,
   "metadata": {},
   "outputs": [
    {
     "data": {
      "image/png": "[encoded data removed]",
      "text/plain": [
       "<Figure size 432x288 with 1 Axes>"
      ]
     },
     "metadata": {},
     "output_type": "display_data"
    }
   ],
   "source": [
    "# But this is probably not a good idea, given that images we deal with later will \n",
    "# have the origin in the upper left corner. We probably just stick to the original\n",
    "def show_canvas():\n",
    "    # Similar to doing cv2.imshow, but in this environment\n",
    "    plt.imshow(canvas, cmap=\"gray\", norm=matplotlib.colors.NoNorm()) \n",
    "    \n",
    "canvas = np.ones((100,100))\n",
    "for y in range(0, 100):\n",
    "    for x in range(0, 100):\n",
    "        if 100 - 1 - y == 0.5*x + 1:\n",
    "            canvas[y,x] = 0\n",
    "show_canvas()"
   ]
  },
  {
   "cell_type": "code",
   "execution_count": 50,
   "metadata": {},
   "outputs": [
    {
     "data": {
      "text/plain": [
       "[<matplotlib.lines.Line2D at 0x1143b2e80>]"
      ]
     },
     "execution_count": 50,
     "metadata": {},
     "output_type": "execute_result"
    },
    {
     "data": {
      "image/png": "[encoded data removed]",
      "text/plain": [
       "<Figure size 288x288 with 1 Axes>"
      ]
     },
     "metadata": {},
     "output_type": "display_data"
    }
   ],
   "source": [
    "# Now we have something similar! But why is it not the same as below?\n",
    "x = np.linspace(0,100,100)\n",
    "\n",
    "fig = plt.figure()\n",
    "plt.axis(\"equal\")\n",
    "plt.axis([0, 100, 0, 100])\n",
    "fig.set_size_inches(4, 4)\n",
    "\n",
    "plt.plot(x, 0.5*x + 1, 'k')"
   ]
  },
  {
   "cell_type": "code",
   "execution_count": 54,
   "metadata": {},
   "outputs": [
    {
     "data": {
      "image/png": "[encoded data removed]",
      "text/plain": [
       "<Figure size 432x288 with 1 Axes>"
      ]
     },
     "metadata": {},
     "output_type": "display_data"
    }
   ],
   "source": [
    "# Maybe we increase the canvas size?\n",
    "\n",
    "canvas = np.ones((200,200))\n",
    "for y in range(0, 200):\n",
    "    for x in range(0, 200):\n",
    "        if 200 - 1 - y == 0.5*x + 1:\n",
    "            canvas[y,x] = 0\n",
    "show_canvas()"
   ]
  },
  {
   "cell_type": "code",
   "execution_count": 55,
   "metadata": {},
   "outputs": [
    {
     "data": {
      "image/png": "[encoded data removed]",
      "text/plain": [
       "<Figure size 432x288 with 1 Axes>"
      ]
     },
     "metadata": {},
     "output_type": "display_data"
    }
   ],
   "source": [
    "# Still not good. Maybe we increase the canvas size?\n",
    "\n",
    "canvas = np.ones((1000,1000))\n",
    "for y in range(0, 1000):\n",
    "    for x in range(0, 1000):\n",
    "        if 1000 - 1 - y == 0.5*x + 1:\n",
    "            canvas[y,x] = 0\n",
    "show_canvas()\n"
   ]
  },
  {
   "cell_type": "code",
   "execution_count": 58,
   "metadata": {},
   "outputs": [
    {
     "data": {
      "text/plain": [
       "0.0"
      ]
     },
     "execution_count": 58,
     "metadata": {},
     "output_type": "execute_result"
    }
   ],
   "source": [
    "# Huh? What happend here!\n",
    "canvas[948, 100]"
   ]
  },
  {
   "cell_type": "code",
   "execution_count": 25,
   "metadata": {},
   "outputs": [],
   "source": [
    "# What? We'll learn next class how to do this a bit better"
   ]
  }
 ],
 "metadata": {
  "kernelspec": {
   "display_name": "Python 3",
   "language": "python",
   "name": "python3"
  },
  "language_info": {
   "codemirror_mode": {
    "name": "ipython",
    "version": 3
   },
   "file_extension": ".py",
   "mimetype": "text/x-python",
   "name": "python",
   "nbconvert_exporter": "python",
   "pygments_lexer": "ipython3",
   "version": "3.6.5"
  }
 },
 "nbformat": 4,
 "nbformat_minor": 2
}
