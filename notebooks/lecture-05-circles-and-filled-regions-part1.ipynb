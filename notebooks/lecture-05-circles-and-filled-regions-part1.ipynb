{
 "cells": [
  {
   "cell_type": "code",
   "execution_count": 6,
   "metadata": {},
   "outputs": [],
   "source": [
    "# Numpy library to use matrices\n",
    "import numpy as np\n",
    "\n",
    "# Load display library for jupyter notebook\n",
    "import matplotlib\n",
    "from matplotlib import pyplot as plt\n"
   ]
  },
  {
   "cell_type": "code",
   "execution_count": 7,
   "metadata": {},
   "outputs": [],
   "source": [
    "# We'll continue onwards with our canvas function\n",
    "N = 100\n",
    "\n",
    "def show_canvas(canvas, title=\"\"):\n",
    "    # Similar to doing cv2.imshow, but in this environment\n",
    "    plt.figure()\n",
    "    plt.imshow(canvas, cmap=\"gray\", norm=matplotlib.colors.NoNorm()) \n",
    "    plt.title(title)\n",
    "    \n",
    "def reset_canvas(size):\n",
    "    return np.ones((size,size))\n",
    "    \n"
   ]
  },
  {
   "cell_type": "code",
   "execution_count": 12,
   "metadata": {},
   "outputs": [
    {
     "data": {
      "image/png": "[encoded data removed]",
      "text/plain": [
       "<Figure size 432x288 with 1 Axes>"
      ]
     },
     "metadata": {
      "needs_background": "light"
     },
     "output_type": "display_data"
    }
   ],
   "source": [
    "# Not-so-good way\n",
    "x0 = 50\n",
    "y0 = 50\n",
    "R = 20\n",
    "canvas = reset_canvas(N)\n",
    "for x in range(-R, R + 1):\n",
    "    for y in range(-R, R + 1):\n",
    "        if int(np.isclose(x**2 + y**2 - R**2)) == 0:\n",
    "            canvas[(N - 1) - (y + y0), x + x0] = 0\n",
    "show_canvas(canvas, \"x0 = {}, y0 = {}, R = {}\".format(x0, y0, R))"
   ]
  },
  {
   "cell_type": "code",
   "execution_count": 13,
   "metadata": {},
   "outputs": [],
   "source": [
    "# Draw all eight combinations (moved with origin)\n",
    "def draw8(canvas, x, y, x0, y0):\n",
    "    # The original pixel\n",
    "    canvas[(N - 1) - (y + y0), (x + x0)] = 0\n",
    "    # The other seven\n",
    "    canvas[(N - 1) - (y + y0), (-x + x0)] = 0\n",
    "    canvas[(N - 1) - (-y + y0), (x + x0)] = 0\n",
    "    canvas[(N - 1) - (-y + y0), (-x + x0)] = 0\n",
    "    canvas[(N - 1) - (x + y0), (y + x0)] = 0\n",
    "    canvas[(N - 1) - (x + y0), (-y + x0)] = 0\n",
    "    canvas[(N - 1) - (-x + y0), (y + x0)] = 0\n",
    "    canvas[(N - 1) - (-x + y0), (-y + x0)] = 0\n",
    "    return canvas"
   ]
  },
  {
   "cell_type": "code",
   "execution_count": 17,
   "metadata": {},
   "outputs": [
    {
     "data": {
      "image/png": "[encoded data removed]",
      "text/plain": [
       "<Figure size 432x288 with 1 Axes>"
      ]
     },
     "metadata": {
      "needs_background": "light"
     },
     "output_type": "display_data"
    }
   ],
   "source": [
    "# Midpoint algorithm\n",
    "x0 = 50\n",
    "y0 = 50\n",
    "R = 20\n",
    "canvas = reset_canvas(N)\n",
    "# init\n",
    "d = 5 - 4 * R\n",
    "x_s = 0\n",
    "x_e = int(np.round(1/np.sqrt(2) * R))\n",
    "y = R\n",
    "\n",
    "# TODO: Implement\n",
    "for x in range(x_s, x_e + 1):\n",
    "    draw8(canvas, x, y, x0, y0)\n",
    "    if d < 0:\n",
    "        d += 8 * x + 12\n",
    "        y = y\n",
    "    else:\n",
    "        d += 8 * x - 8 * y + 20\n",
    "        y = y - 1\n",
    "    \n",
    "\n",
    "show_canvas(canvas, \"midpoint algorithm result\")"
   ]
  },
  {
   "cell_type": "code",
   "execution_count": 9,
   "metadata": {},
   "outputs": [
    {
     "data": {
      "image/png": "[encoded data removed]",
      "text/plain": [
       "<Figure size 432x288 with 1 Axes>"
      ]
     },
     "metadata": {
      "needs_background": "light"
     },
     "output_type": "display_data"
    }
   ],
   "source": [
    "# Another implementation of the Midpoint algorithm not shown in class\n",
    "x0 = 50\n",
    "y0 = 50\n",
    "R = 20\n",
    "canvas = reset_canvas(N)\n",
    "# init\n",
    "d = 5 - 4 * R\n",
    "x_s = 0\n",
    "x_e = int(np.round(1/np.sqrt(2) * R))\n",
    "y = R\n",
    "for x in range(x_s, x_e + 1):\n",
    "    canvas = draw8(canvas, x, y, x0, y0)\n",
    "    if d < 0:\n",
    "        # midpoint in circle, choose E\n",
    "        delta = 8 * x + 12\n",
    "        y = y\n",
    "    else:\n",
    "        # midpoint outside circle, choose SE\n",
    "        delta = 8 * x - 8 * y + 20\n",
    "        y = y - 1\n",
    "    d += delta\n",
    "show_canvas(canvas, \"midpoint algorithm result\")"
   ]
  },
  {
   "cell_type": "code",
   "execution_count": null,
   "metadata": {},
   "outputs": [],
   "source": [
    "# Looks about right!"
   ]
  }
 ],
 "metadata": {
  "kernelspec": {
   "display_name": "Python 3",
   "language": "python",
   "name": "python3"
  },
  "language_info": {
   "codemirror_mode": {
    "name": "ipython",
    "version": 3
   },
   "file_extension": ".py",
   "mimetype": "text/x-python",
   "name": "python",
   "nbconvert_exporter": "python",
   "pygments_lexer": "ipython3",
   "version": "3.7.6"
  }
 },
 "nbformat": 4,
 "nbformat_minor": 2
}
