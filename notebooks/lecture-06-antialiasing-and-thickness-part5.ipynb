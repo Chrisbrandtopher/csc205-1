{
 "cells": [
  {
   "cell_type": "code",
   "execution_count": 1,
   "metadata": {},
   "outputs": [],
   "source": [
    "# Numpy library to use matrices\n",
    "import numpy as np\n",
    "\n",
    "# Load display library for jupyter notebook\n",
    "import matplotlib\n",
    "from matplotlib import pyplot as plt\n"
   ]
  },
  {
   "cell_type": "code",
   "execution_count": 2,
   "metadata": {},
   "outputs": [],
   "source": [
    "# We'll continue onwards with our canvas function\n",
    "N = 100\n",
    "\n",
    "def show_canvas(canvas, title=\"\"):\n",
    "    # Similar to doing cv2.imshow, but in this environment\n",
    "    plt.figure(figsize = (8,8))\n",
    "#     plt.axis('off')\n",
    "    plt.imshow(canvas, cmap=\"gray\", norm=matplotlib.colors.NoNorm()) \n",
    "    plt.title(title)\n",
    "    \n",
    "def reset_canvas(size):\n",
    "    return np.ones((size,size))\n",
    "    \n"
   ]
  },
  {
   "cell_type": "code",
   "execution_count": 3,
   "metadata": {},
   "outputs": [],
   "source": [
    "# Our draw funcion\n",
    "def draw(canvas, x, y, v):\n",
    "    N = canvas.shape[0]\n",
    "    canvas[(N - 1) - y, x] = min(canvas[(N - 1) - y, x], v)\n",
    "    return canvas\n"
   ]
  },
  {
   "cell_type": "code",
   "execution_count": 4,
   "metadata": {},
   "outputs": [],
   "source": [
    "# Draw line without any aliasing\n",
    "def line(canvas, x0, y0, x1, y1):\n",
    "    \n",
    "    dx = x1 - x0\n",
    "    dy = y1 - y0\n",
    "    # init\n",
    "    d = 2 * dy - dx\n",
    "    y = y0\n",
    "    for x in range(x0, x1 + 1):\n",
    "\n",
    "        canvas = draw(canvas, x, y, 0)\n",
    "\n",
    "        if d < 0:\n",
    "            # midpoint above line, choose E\n",
    "            d = d + 2 * dy\n",
    "        else:\n",
    "            # midpoint below line, choose NE\n",
    "            d = d + 2 * (dy - dx)\n",
    "            y = y + 1\n",
    "    return canvas"
   ]
  },
  {
   "cell_type": "code",
   "execution_count": 9,
   "metadata": {},
   "outputs": [],
   "source": [
    "# Upsample function\n",
    "def upsample(canvas):\n",
    "    # We can actually do this very smartly, but for now let's stick to a very basic one\n",
    "    new_canvas = reset_canvas(2 * canvas.shape[0])\n",
    "    for j in range(new_canvas.shape[0]):\n",
    "        for i in range(new_canvas.shape[1]):\n",
    "            new_canvas[j, i] = canvas[j // 2, i // 2]\n",
    "            \n",
    "    return new_canvas"
   ]
  },
  {
   "cell_type": "code",
   "execution_count": 7,
   "metadata": {},
   "outputs": [],
   "source": [
    "# Downsample function\n",
    "def downsample(canvas):\n",
    "    # We can actually do this very smartly, but for now let's stick to a very basic one\n",
    "    new_canvas = reset_canvas(canvas.shape[0] // 2)\n",
    "    for j in range(new_canvas.shape[0]):\n",
    "        for i in range(new_canvas.shape[1]):\n",
    "            # Average among four pixels\n",
    "            cur = 1.0\n",
    "            for k in range(2):\n",
    "                for l in range(2):\n",
    "                    cur += canvas[2 * j + k, 2 * i + l]\n",
    "            new_canvas[j, i] = cur / 4\n",
    "            \n",
    "    return new_canvas"
   ]
  },
  {
   "cell_type": "code",
   "execution_count": 10,
   "metadata": {},
   "outputs": [
    {
     "data": {
      "image/png": "[encoded data removed]",
      "text/plain": [
       "<Figure size 576x576 with 1 Axes>"
      ]
     },
     "metadata": {},
     "output_type": "display_data"
    }
   ],
   "source": [
    "# Drawing a line with super sampling\n",
    "def lineSSAA(canvas, x0, y0, x1, y1):\n",
    "    \n",
    "    # First draw a super-sampled image with double canvas (e.g.)\n",
    "    canvasSS = upsample(canvas)\n",
    "    # Draw the four lines\n",
    "    for k in range(2):\n",
    "        for l in range(2):\n",
    "            canvasSS = line(\n",
    "                canvasSS, 2 * x0 + k, 2 * y0 + l, 2 * x1 + k, 2 * y1 + l)\n",
    "    # Down sample canvas\n",
    "    canvas = downsample(canvasSS)\n",
    "    \n",
    "    return canvas\n",
    "    \n",
    "\n",
    "canvas = reset_canvas(N)\n",
    "canvas = lineSSAA(canvas, 20, 20, 80, 43)\n",
    "show_canvas(canvas, \"antialiased with super sampling\")"
   ]
  },
  {
   "cell_type": "code",
   "execution_count": null,
   "metadata": {},
   "outputs": [],
   "source": []
  }
 ],
 "metadata": {
  "kernelspec": {
   "display_name": "Python 3",
   "language": "python",
   "name": "python3"
  },
  "language_info": {
   "codemirror_mode": {
    "name": "ipython",
    "version": 3
   },
   "file_extension": ".py",
   "mimetype": "text/x-python",
   "name": "python",
   "nbconvert_exporter": "python",
   "pygments_lexer": "ipython3",
   "version": "3.6.5"
  }
 },
 "nbformat": 4,
 "nbformat_minor": 2
}
