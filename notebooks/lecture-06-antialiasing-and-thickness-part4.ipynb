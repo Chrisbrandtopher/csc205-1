{
 "cells": [
  {
   "cell_type": "code",
   "execution_count": 1,
   "metadata": {},
   "outputs": [],
   "source": [
    "# Numpy library to use matrices\n",
    "import numpy as np\n",
    "\n",
    "# Load display library for jupyter notebook\n",
    "import matplotlib\n",
    "from matplotlib import pyplot as plt\n"
   ]
  },
  {
   "cell_type": "code",
   "execution_count": 2,
   "metadata": {},
   "outputs": [],
   "source": [
    "# We'll continue onwards with our canvas function\n",
    "N = 100\n",
    "\n",
    "def show_canvas(canvas, title=\"\"):\n",
    "    # Similar to doing cv2.imshow, but in this environment\n",
    "    plt.figure(figsize = (8,8))\n",
    "#     plt.axis('off')\n",
    "    plt.imshow(canvas, cmap=\"gray\", norm=matplotlib.colors.NoNorm()) \n",
    "    plt.title(title)\n",
    "    \n",
    "def reset_canvas(size):\n",
    "    return np.ones((size,size))\n",
    "    \n"
   ]
  },
  {
   "cell_type": "code",
   "execution_count": 3,
   "metadata": {},
   "outputs": [],
   "source": [
    "# Now define our aliased drawing function (fixed)\n",
    "def draw(canvas, x, y, v):\n",
    "    canvas[(N - 1) - y, x] = min(canvas[(N - 1) - y, x], v)\n",
    "    return canvas\n",
    "\n",
    "def lineAA(canvas, x0, y0, x1, y1):\n",
    "    dx = x1 - x0\n",
    "    dy = y1 - y0\n",
    "    # init\n",
    "    d = 2 * dy - dx\n",
    "    y = y0\n",
    "    two_v_dx = 0\n",
    "    def get_aa_intensity(dist):\n",
    "        return min(1.0, abs(dist))\n",
    "    for x in range(x0, x1 + 1):\n",
    "\n",
    "        denom = (2 * np.sqrt(dx**2 + dy**2))\n",
    "\n",
    "        D = two_v_dx / denom\n",
    "        D_up = (2 * dx - two_v_dx) / denom\n",
    "        D_down = (2 * dx + two_v_dx) / denom\n",
    "        canvas = draw(canvas, x, y, get_aa_intensity(D))\n",
    "        canvas = draw(canvas, x, y+1, get_aa_intensity(D_up))\n",
    "        canvas = draw(canvas, x, y-1, get_aa_intensity(D_down))\n",
    "\n",
    "        if d < 0:\n",
    "            # midpoint above line, choose E\n",
    "            two_v_dx = d + dx        \n",
    "            d = d + 2 * dy\n",
    "        else:\n",
    "            # midpoint below line, choose NE\n",
    "            two_v_dx = d - dx\n",
    "            d = d + 2 * (dy - dx)\n",
    "            y = y + 1\n",
    "    return canvas"
   ]
  },
  {
   "cell_type": "code",
   "execution_count": 4,
   "metadata": {},
   "outputs": [],
   "source": [
    "# This time also without AA lines\n",
    "def line(canvas, x0, y0, x1, y1):\n",
    "    \n",
    "    dx = x1 - x0\n",
    "    dy = y1 - y0\n",
    "    # init\n",
    "    d = 2 * dy - dx\n",
    "    y = y0\n",
    "    for x in range(x0, x1 + 1):\n",
    "\n",
    "        canvas = draw(canvas, x, y, 0)\n",
    "\n",
    "        if d < 0:\n",
    "            # midpoint above line, choose E\n",
    "            d = d + 2 * dy\n",
    "        else:\n",
    "            # midpoint below line, choose NE\n",
    "            d = d + 2 * (dy - dx)\n",
    "            y = y + 1\n",
    "    return canvas"
   ]
  },
  {
   "cell_type": "code",
   "execution_count": 5,
   "metadata": {},
   "outputs": [],
   "source": [
    "# From the previous lecture\n",
    "def draw_line(canvas, xs, xe, yy):\n",
    "    for xx in range(xs, xe + 1):\n",
    "        canvas[yy, xx] = 0\n",
    "    return canvas\n",
    "\n",
    "def fill(canvas):\n",
    "    # Since we know that the circle extends only up R, we'll loop though there\n",
    "    new_canvas = canvas.copy() # we'll make a copy because we don't want to redo the drawing above\n",
    "    for y in range(0, N):\n",
    "        # We'll have a counter that records even/odd\n",
    "        xs = None\n",
    "        is_odd = False\n",
    "        for x in range(0, N):\n",
    "            j = (N - 1) - (y)\n",
    "            i = x\n",
    "            if canvas[j, i] < 0.5 and canvas[j, i + 1] >= 0.5:\n",
    "                if not is_odd:\n",
    "                    xs = i\n",
    "                else:\n",
    "                    new_canvas = draw_line(new_canvas, xs, i, j)\n",
    "                is_odd = not is_odd\n",
    "    return new_canvas"
   ]
  },
  {
   "cell_type": "code",
   "execution_count": 6,
   "metadata": {},
   "outputs": [
    {
     "data": {
      "image/png": "[encoded data removed]",
      "text/plain": [
       "<Figure size 576x576 with 1 Axes>"
      ]
     },
     "metadata": {},
     "output_type": "display_data"
    }
   ],
   "source": [
    "# Function to draw lines\n",
    "def thick_line(canvas, x0, y0, x1, y1, thickness):\n",
    "    # Draw rectangle\n",
    "    canvas = lineAA(canvas, x0, y0-thickness, x1, y1-thickness)\n",
    "    canvas = lineAA(canvas, x0, y0+thickness, x1, y1+thickness)    \n",
    "    # For the vertical lines\n",
    "    for j in range(-thickness, thickness+1):\n",
    "        canvas = draw(canvas, x0, y0 + j, 0)\n",
    "        canvas = draw(canvas, x1, y1 + j, 0)\n",
    "    # Fill inside\n",
    "    canvas = fill(canvas)        \n",
    "    return canvas\n",
    "\n",
    "canvas = reset_canvas(N)\n",
    "canvas = thick_line(canvas, 20, 20, 80, 43, 2)\n",
    "show_canvas(canvas, \"poly-fill\")"
   ]
  },
  {
   "cell_type": "code",
   "execution_count": 7,
   "metadata": {},
   "outputs": [],
   "source": [
    "# We will create a function to draw a circle.\n",
    "# Not the best way to do it, but good enough to show you how it works.\n",
    "\n",
    "\n",
    "def draw8(canvas, x, y, x0, y0):\n",
    "    canvas[(N - 1) - (y + y0), (x + x0)] = 0\n",
    "    canvas[(N - 1) - (y + y0), (-x + x0)] = 0\n",
    "    canvas[(N - 1) - (-y + y0), (x + x0)] = 0\n",
    "    canvas[(N - 1) - (-y + y0), (-x + x0)] = 0\n",
    "    canvas[(N - 1) - (x + y0), (y + x0)] = 0\n",
    "    canvas[(N - 1) - (x + y0), (-y + x0)] = 0\n",
    "    canvas[(N - 1) - (-x + y0), (y + x0)] = 0\n",
    "    canvas[(N - 1) - (-x + y0), (-y + x0)] = 0\n",
    "    return canvas\n",
    "\n",
    "def filled_circle(canvas, x0, y0, R):\n",
    "\n",
    "    # init\n",
    "    d = 5/4 - R\n",
    "    x_s = 0\n",
    "    x_e = int(np.round(1/np.sqrt(2) * R))\n",
    "    y = R\n",
    "    for x in range(x_s, x_e + 1):\n",
    "        canvas = draw8(canvas, x, y, x0, y0)\n",
    "        if d < 0:\n",
    "            # midpoint in circle, choose E\n",
    "            delta = 2 * x + 3\n",
    "            y = y\n",
    "        else:\n",
    "            # midpoint outside circle, choose SE\n",
    "            delta = 2 * x - 2 * y + 5\n",
    "            y = y - 1\n",
    "        d += delta\n",
    "                \n",
    "    # Fill\n",
    "    canvas = fill(canvas)\n",
    "    \n",
    "    return canvas"
   ]
  },
  {
   "cell_type": "code",
   "execution_count": 33,
   "metadata": {},
   "outputs": [
    {
     "data": {
      "image/png": "[encoded data removed]",
      "text/plain": [
       "<Figure size 576x576 with 1 Axes>"
      ]
     },
     "metadata": {},
     "output_type": "display_data"
    }
   ],
   "source": [
    "# Now let's try adding the two circles\n",
    "\n",
    "# Function to draw lines\n",
    "def thick_line(canvas, x0, y0, x1, y1, thickness):\n",
    "    # Draw rectangle\n",
    "    canvas = lineAA(canvas, x0, y0-thickness, x1, y1-thickness)\n",
    "    canvas = lineAA(canvas, x0, y0+thickness, x1, y1+thickness)    \n",
    "    # For the vertical lines\n",
    "    for j in range(-thickness, thickness+1):\n",
    "        canvas = draw(canvas, x0, y0 + j, 0)\n",
    "        canvas = draw(canvas, x1, y1 + j, 0)\n",
    "    # Fill\n",
    "    canvas = fill(canvas)\n",
    "    # Draw circles\n",
    "    canvas = filled_circle(canvas, x0, y0, thickness)\n",
    "    canvas = filled_circle(canvas, x1, y1, thickness)\n",
    "    return canvas\n",
    "\n",
    "canvas = reset_canvas(N)\n",
    "canvas = thick_line(canvas, 20, 20, 80, 43, 2)\n",
    "show_canvas(canvas, \"poly-fill\")"
   ]
  },
  {
   "cell_type": "code",
   "execution_count": 34,
   "metadata": {},
   "outputs": [],
   "source": [
    "# No Antialiasing for the circles! "
   ]
  },
  {
   "cell_type": "code",
   "execution_count": null,
   "metadata": {},
   "outputs": [],
   "source": []
  }
 ],
 "metadata": {
  "kernelspec": {
   "display_name": "Python 3",
   "language": "python",
   "name": "python3"
  },
  "language_info": {
   "codemirror_mode": {
    "name": "ipython",
    "version": 3
   },
   "file_extension": ".py",
   "mimetype": "text/x-python",
   "name": "python",
   "nbconvert_exporter": "python",
   "pygments_lexer": "ipython3",
   "version": "3.6.5"
  }
 },
 "nbformat": 4,
 "nbformat_minor": 2
}
